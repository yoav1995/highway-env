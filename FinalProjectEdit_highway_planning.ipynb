{
  "nbformat": 4,
  "nbformat_minor": 0,
  "metadata": {
    "colab": {
      "provenance": [],
      "toc_visible": true
    },
    "kernelspec": {
      "name": "python3",
      "language": "python",
      "display_name": "Python 3"
    },
    "pycharm": {
      "stem_cell": {
        "cell_type": "raw",
        "source": [],
        "metadata": {
          "collapsed": false
        }
      }
    }
  },
  "cells": [
    {
      "cell_type": "markdown",
      "metadata": {
        "id": "QKWvMXWMBEJA"
      },
      "source": [
        "# Behavioural Planning for Autonomous Highway Driving\n",
        "\n",
        "We plan a trajectory using the _Optimistic Planning for Deterministic systems_ ([OPD](https://hal.inria.fr/hal-00830182)) algorithm.\n",
        "\n",
        "##  Setup\n",
        "\n",
        "We first import useful modules for the environment, agent, and visualization."
      ]
    },
    {
      "cell_type": "code",
      "metadata": {
        "id": "s-ghXis6A_md"
      },
      "source": [
        "# Environment\n",
        "!pip install highway-env\n",
        "import gymnasium as gym\n",
        "\n",
        "# Agent\n",
        "!pip install git+https://github.com/eleurent/rl-agents#egg=rl-agents\n",
        "from rl_agents.agents.common.factory import agent_factory\n",
        "\n",
        "# Visualisation\n",
        "import sys\n",
        "from tqdm.notebook import trange\n",
        "!pip install moviepy -U\n",
        "!pip install imageio_ffmpeg\n",
        "!pip install pyvirtualdisplay\n",
        "!apt-get install -y xvfb python-opengl ffmpeg\n",
        "!git clone https://github.com/yoav1995/highway-env2.git\n",
        "sys.path.insert(0, './highway-env2/scripts/')\n",
        "\n"
      ],
      "execution_count": null,
      "outputs": []
    },
    {
      "cell_type": "code",
      "source": [
        "from IPython import display as ipythondisplay\n",
        "from pyvirtualdisplay import Display\n",
        "from gymnasium.wrappers import RecordVideo\n",
        "from pathlib import Path\n",
        "import base64\n",
        "\n",
        "\n",
        "display = Display(visible=0, size=(1400, 900))\n",
        "display.start()\n",
        "\n",
        "\n",
        "def record_videos(env, video_folder=\"videos\"):\n",
        "    wrapped = RecordVideo(env, video_folder=video_folder, episode_trigger=lambda e: True)\n",
        "\n",
        "    # Capture intermediate frames\n",
        "    env.unwrapped.set_record_video_wrapper(wrapped)\n",
        "\n",
        "    return wrapped\n",
        "\n",
        "\n",
        "def show_videos(path=\"videos\"):\n",
        "    html = []\n",
        "    for mp4 in Path(path).glob(\"*.mp4\"):\n",
        "        video_b64 = base64.b64encode(mp4.read_bytes())\n",
        "        html.append('''<video alt=\"{}\" autoplay\n",
        "                      loop controls style=\"height: 400px;\">\n",
        "                      <source src=\"data:video/mp4;base64,{}\" type=\"video/mp4\" />\n",
        "                 </video>'''.format(mp4, video_b64.decode('ascii')))\n",
        "    ipythondisplay.display(ipythondisplay.HTML(data=\"<br>\".join(html)))\n"
      ],
      "metadata": {
        "id": "-yfAFHl32Dj8"
      },
      "execution_count": null,
      "outputs": []
    },
    {
      "cell_type": "markdown",
      "metadata": {
        "id": "oi1SV025BXhB"
      },
      "source": [
        "## Run an episode"
      ]
    },
    {
      "cell_type": "code",
      "metadata": {
        "id": "bgNDDWwqCj8l"
      },
      "source": [
        "# Make environment\n",
        "env = gym.make(\"highway-fast-v0\", render_mode=\"rgb_array\")\n",
        "env = record_videos(env)\n",
        "(obs, info), done = env.reset(), False\n",
        "\n",
        "# Make agent\n",
        "agent_config = {\n",
        "    \"__class__\": \"<class 'rl_agents.agents.tree_search.deterministic.DeterministicPlannerAgent'>\",\n",
        "    \"env_preprocessors\": [{\"method\":\"simplify\"}],\n",
        "    \"budget\": 50,\n",
        "    \"gamma\": 0.65,\n",
        "}\n",
        "env.config[\"offroad_terminal\"]=True\n",
        "env.config[\"duration\"]=40\n",
        "env.config[\"vehicles_count\"]=100\n",
        "env.spec.disable_env_checker=True\n",
        "env.reset()\n",
        "agent = agent_factory(env, agent_config)\n",
        "\n",
        "# Run episode\n",
        "for step in trange(env.unwrapped.config[\"duration\"], desc=\"Running...\"):\n",
        "    action = agent.act(obs)\n",
        "    obs, reward, done, truncated, info = env.step(action)\n",
        "    \n",
        "env.close()\n",
        "show_videos()"
      ],
      "execution_count": null,
      "outputs": []
    }
  ]
}